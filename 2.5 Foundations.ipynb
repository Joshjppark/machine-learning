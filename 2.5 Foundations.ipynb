{
 "cells": [
  {
   "cell_type": "code",
   "execution_count": 1,
   "metadata": {},
   "outputs": [],
   "source": [
    "import numpy as np\n",
    "import pandas as pd\n",
    "import matplotlib.pyplot as plt\n",
    "\n",
    "%matplotlib inline"
   ]
  },
  {
   "cell_type": "code",
   "execution_count": 2,
   "metadata": {},
   "outputs": [],
   "source": [
    "from sklearn.datasets import load_boston\n",
    "from sklearn.preprocessing import StandardScaler"
   ]
  },
  {
   "cell_type": "code",
   "execution_count": 3,
   "metadata": {},
   "outputs": [],
   "source": [
    "boston = load_boston()\n",
    "data = boston.data\n",
    "target = boston.target\n",
    "features = boston.feature_names\n",
    "s = StandardScaler()\n",
    "data = s.fit_transform(data)"
   ]
  },
  {
   "cell_type": "code",
   "execution_count": 4,
   "metadata": {},
   "outputs": [],
   "source": [
    "df = pd.DataFrame(data, columns = features)"
   ]
  },
  {
   "cell_type": "code",
   "execution_count": 5,
   "metadata": {},
   "outputs": [
    {
     "data": {
      "text/html": [
       "<div>\n",
       "<style scoped>\n",
       "    .dataframe tbody tr th:only-of-type {\n",
       "        vertical-align: middle;\n",
       "    }\n",
       "\n",
       "    .dataframe tbody tr th {\n",
       "        vertical-align: top;\n",
       "    }\n",
       "\n",
       "    .dataframe thead th {\n",
       "        text-align: right;\n",
       "    }\n",
       "</style>\n",
       "<table border=\"1\" class=\"dataframe\">\n",
       "  <thead>\n",
       "    <tr style=\"text-align: right;\">\n",
       "      <th></th>\n",
       "      <th>CRIM</th>\n",
       "      <th>ZN</th>\n",
       "      <th>INDUS</th>\n",
       "      <th>CHAS</th>\n",
       "      <th>NOX</th>\n",
       "      <th>RM</th>\n",
       "      <th>AGE</th>\n",
       "      <th>DIS</th>\n",
       "      <th>RAD</th>\n",
       "      <th>TAX</th>\n",
       "      <th>PTRATIO</th>\n",
       "      <th>B</th>\n",
       "      <th>LSTAT</th>\n",
       "    </tr>\n",
       "  </thead>\n",
       "  <tbody>\n",
       "    <tr>\n",
       "      <th>0</th>\n",
       "      <td>-0.419782</td>\n",
       "      <td>0.284830</td>\n",
       "      <td>-1.287909</td>\n",
       "      <td>-0.272599</td>\n",
       "      <td>-0.144217</td>\n",
       "      <td>0.413672</td>\n",
       "      <td>-0.120013</td>\n",
       "      <td>0.140214</td>\n",
       "      <td>-0.982843</td>\n",
       "      <td>-0.666608</td>\n",
       "      <td>-1.459000</td>\n",
       "      <td>0.441052</td>\n",
       "      <td>-1.075562</td>\n",
       "    </tr>\n",
       "    <tr>\n",
       "      <th>1</th>\n",
       "      <td>-0.417339</td>\n",
       "      <td>-0.487722</td>\n",
       "      <td>-0.593381</td>\n",
       "      <td>-0.272599</td>\n",
       "      <td>-0.740262</td>\n",
       "      <td>0.194274</td>\n",
       "      <td>0.367166</td>\n",
       "      <td>0.557160</td>\n",
       "      <td>-0.867883</td>\n",
       "      <td>-0.987329</td>\n",
       "      <td>-0.303094</td>\n",
       "      <td>0.441052</td>\n",
       "      <td>-0.492439</td>\n",
       "    </tr>\n",
       "    <tr>\n",
       "      <th>2</th>\n",
       "      <td>-0.417342</td>\n",
       "      <td>-0.487722</td>\n",
       "      <td>-0.593381</td>\n",
       "      <td>-0.272599</td>\n",
       "      <td>-0.740262</td>\n",
       "      <td>1.282714</td>\n",
       "      <td>-0.265812</td>\n",
       "      <td>0.557160</td>\n",
       "      <td>-0.867883</td>\n",
       "      <td>-0.987329</td>\n",
       "      <td>-0.303094</td>\n",
       "      <td>0.396427</td>\n",
       "      <td>-1.208727</td>\n",
       "    </tr>\n",
       "    <tr>\n",
       "      <th>3</th>\n",
       "      <td>-0.416750</td>\n",
       "      <td>-0.487722</td>\n",
       "      <td>-1.306878</td>\n",
       "      <td>-0.272599</td>\n",
       "      <td>-0.835284</td>\n",
       "      <td>1.016303</td>\n",
       "      <td>-0.809889</td>\n",
       "      <td>1.077737</td>\n",
       "      <td>-0.752922</td>\n",
       "      <td>-1.106115</td>\n",
       "      <td>0.113032</td>\n",
       "      <td>0.416163</td>\n",
       "      <td>-1.361517</td>\n",
       "    </tr>\n",
       "    <tr>\n",
       "      <th>4</th>\n",
       "      <td>-0.412482</td>\n",
       "      <td>-0.487722</td>\n",
       "      <td>-1.306878</td>\n",
       "      <td>-0.272599</td>\n",
       "      <td>-0.835284</td>\n",
       "      <td>1.228577</td>\n",
       "      <td>-0.511180</td>\n",
       "      <td>1.077737</td>\n",
       "      <td>-0.752922</td>\n",
       "      <td>-1.106115</td>\n",
       "      <td>0.113032</td>\n",
       "      <td>0.441052</td>\n",
       "      <td>-1.026501</td>\n",
       "    </tr>\n",
       "    <tr>\n",
       "      <th>...</th>\n",
       "      <td>...</td>\n",
       "      <td>...</td>\n",
       "      <td>...</td>\n",
       "      <td>...</td>\n",
       "      <td>...</td>\n",
       "      <td>...</td>\n",
       "      <td>...</td>\n",
       "      <td>...</td>\n",
       "      <td>...</td>\n",
       "      <td>...</td>\n",
       "      <td>...</td>\n",
       "      <td>...</td>\n",
       "      <td>...</td>\n",
       "    </tr>\n",
       "    <tr>\n",
       "      <th>501</th>\n",
       "      <td>-0.413229</td>\n",
       "      <td>-0.487722</td>\n",
       "      <td>0.115738</td>\n",
       "      <td>-0.272599</td>\n",
       "      <td>0.158124</td>\n",
       "      <td>0.439316</td>\n",
       "      <td>0.018673</td>\n",
       "      <td>-0.625796</td>\n",
       "      <td>-0.982843</td>\n",
       "      <td>-0.803212</td>\n",
       "      <td>1.176466</td>\n",
       "      <td>0.387217</td>\n",
       "      <td>-0.418147</td>\n",
       "    </tr>\n",
       "    <tr>\n",
       "      <th>502</th>\n",
       "      <td>-0.415249</td>\n",
       "      <td>-0.487722</td>\n",
       "      <td>0.115738</td>\n",
       "      <td>-0.272599</td>\n",
       "      <td>0.158124</td>\n",
       "      <td>-0.234548</td>\n",
       "      <td>0.288933</td>\n",
       "      <td>-0.716639</td>\n",
       "      <td>-0.982843</td>\n",
       "      <td>-0.803212</td>\n",
       "      <td>1.176466</td>\n",
       "      <td>0.441052</td>\n",
       "      <td>-0.500850</td>\n",
       "    </tr>\n",
       "    <tr>\n",
       "      <th>503</th>\n",
       "      <td>-0.413447</td>\n",
       "      <td>-0.487722</td>\n",
       "      <td>0.115738</td>\n",
       "      <td>-0.272599</td>\n",
       "      <td>0.158124</td>\n",
       "      <td>0.984960</td>\n",
       "      <td>0.797449</td>\n",
       "      <td>-0.773684</td>\n",
       "      <td>-0.982843</td>\n",
       "      <td>-0.803212</td>\n",
       "      <td>1.176466</td>\n",
       "      <td>0.441052</td>\n",
       "      <td>-0.983048</td>\n",
       "    </tr>\n",
       "    <tr>\n",
       "      <th>504</th>\n",
       "      <td>-0.407764</td>\n",
       "      <td>-0.487722</td>\n",
       "      <td>0.115738</td>\n",
       "      <td>-0.272599</td>\n",
       "      <td>0.158124</td>\n",
       "      <td>0.725672</td>\n",
       "      <td>0.736996</td>\n",
       "      <td>-0.668437</td>\n",
       "      <td>-0.982843</td>\n",
       "      <td>-0.803212</td>\n",
       "      <td>1.176466</td>\n",
       "      <td>0.403225</td>\n",
       "      <td>-0.865302</td>\n",
       "    </tr>\n",
       "    <tr>\n",
       "      <th>505</th>\n",
       "      <td>-0.415000</td>\n",
       "      <td>-0.487722</td>\n",
       "      <td>0.115738</td>\n",
       "      <td>-0.272599</td>\n",
       "      <td>0.158124</td>\n",
       "      <td>-0.362767</td>\n",
       "      <td>0.434732</td>\n",
       "      <td>-0.613246</td>\n",
       "      <td>-0.982843</td>\n",
       "      <td>-0.803212</td>\n",
       "      <td>1.176466</td>\n",
       "      <td>0.441052</td>\n",
       "      <td>-0.669058</td>\n",
       "    </tr>\n",
       "  </tbody>\n",
       "</table>\n",
       "<p>506 rows × 13 columns</p>\n",
       "</div>"
      ],
      "text/plain": [
       "         CRIM        ZN     INDUS      CHAS       NOX        RM       AGE  \\\n",
       "0   -0.419782  0.284830 -1.287909 -0.272599 -0.144217  0.413672 -0.120013   \n",
       "1   -0.417339 -0.487722 -0.593381 -0.272599 -0.740262  0.194274  0.367166   \n",
       "2   -0.417342 -0.487722 -0.593381 -0.272599 -0.740262  1.282714 -0.265812   \n",
       "3   -0.416750 -0.487722 -1.306878 -0.272599 -0.835284  1.016303 -0.809889   \n",
       "4   -0.412482 -0.487722 -1.306878 -0.272599 -0.835284  1.228577 -0.511180   \n",
       "..        ...       ...       ...       ...       ...       ...       ...   \n",
       "501 -0.413229 -0.487722  0.115738 -0.272599  0.158124  0.439316  0.018673   \n",
       "502 -0.415249 -0.487722  0.115738 -0.272599  0.158124 -0.234548  0.288933   \n",
       "503 -0.413447 -0.487722  0.115738 -0.272599  0.158124  0.984960  0.797449   \n",
       "504 -0.407764 -0.487722  0.115738 -0.272599  0.158124  0.725672  0.736996   \n",
       "505 -0.415000 -0.487722  0.115738 -0.272599  0.158124 -0.362767  0.434732   \n",
       "\n",
       "          DIS       RAD       TAX   PTRATIO         B     LSTAT  \n",
       "0    0.140214 -0.982843 -0.666608 -1.459000  0.441052 -1.075562  \n",
       "1    0.557160 -0.867883 -0.987329 -0.303094  0.441052 -0.492439  \n",
       "2    0.557160 -0.867883 -0.987329 -0.303094  0.396427 -1.208727  \n",
       "3    1.077737 -0.752922 -1.106115  0.113032  0.416163 -1.361517  \n",
       "4    1.077737 -0.752922 -1.106115  0.113032  0.441052 -1.026501  \n",
       "..        ...       ...       ...       ...       ...       ...  \n",
       "501 -0.625796 -0.982843 -0.803212  1.176466  0.387217 -0.418147  \n",
       "502 -0.716639 -0.982843 -0.803212  1.176466  0.441052 -0.500850  \n",
       "503 -0.773684 -0.982843 -0.803212  1.176466  0.441052 -0.983048  \n",
       "504 -0.668437 -0.982843 -0.803212  1.176466  0.403225 -0.865302  \n",
       "505 -0.613246 -0.982843 -0.803212  1.176466  0.441052 -0.669058  \n",
       "\n",
       "[506 rows x 13 columns]"
      ]
     },
     "execution_count": 5,
     "metadata": {},
     "output_type": "execute_result"
    }
   ],
   "source": [
    "df"
   ]
  },
  {
   "cell_type": "code",
   "execution_count": 6,
   "metadata": {},
   "outputs": [
    {
     "data": {
      "text/plain": [
       "0     -1.075562\n",
       "1     -0.492439\n",
       "2     -1.208727\n",
       "3     -1.361517\n",
       "4     -1.026501\n",
       "         ...   \n",
       "501   -0.418147\n",
       "502   -0.500850\n",
       "503   -0.983048\n",
       "504   -0.865302\n",
       "505   -0.669058\n",
       "Name: LSTAT, Length: 506, dtype: float64"
      ]
     },
     "execution_count": 6,
     "metadata": {},
     "output_type": "execute_result"
    }
   ],
   "source": [
    "df['LSTAT']"
   ]
  },
  {
   "cell_type": "code",
   "execution_count": 7,
   "metadata": {},
   "outputs": [],
   "source": [
    "def sigmoid(x):\n",
    "    return 1 / (1+np.exp(-x))"
   ]
  },
  {
   "cell_type": "code",
   "execution_count": 8,
   "metadata": {},
   "outputs": [],
   "source": [
    "def forward_loss(X, y, weights):\n",
    "    '''\n",
    "    Computes forward loss of function\n",
    "    '''\n",
    "    \n",
    "    assert X.shape[1] == weights['W1'].shape[0]\n",
    "    \n",
    "    N1 = np.dot(X, weights['W1'])\n",
    "    P1 = N1 + weights['B1']\n",
    "    O1 = sigmoid(P1)\n",
    "    \n",
    "    #repeat\n",
    "    N2 = np.dot(O1, weights['W2'])\n",
    "    P2 = N2 + weights['B2']\n",
    "    \n",
    "    loss = np.mean(np.power(y - P2, 2))\n",
    "    \n",
    "    forward_info = {}\n",
    "    forward_info['X'] = X\n",
    "    forward_info['N1'] = N1\n",
    "    forward_info['P1'] = P1\n",
    "    forward_info['O1'] = O1\n",
    "    forward_info['N2'] = N2\n",
    "    forward_info['P2'] = P2\n",
    "    forward_info['y'] = y\n",
    "    \n",
    "    return forward_info, loss"
   ]
  },
  {
   "cell_type": "code",
   "execution_count": 9,
   "metadata": {},
   "outputs": [],
   "source": [
    "def loss_gradient(forward_info, weights):\n",
    "    '''\n",
    "    Compute the partial derivatives of the loss with respect to each of the parameters in the neural network\n",
    "    '''\n",
    "    \n",
    "    dL_dP2 = -2 * (forward_info['y'] - forward_info['P2']) #shape = (batch_size, 1)\n",
    "    \n",
    "    dP2_dN2 = np.ones_like(forward_info['N2']) #shape = (batch_size, 1)\n",
    "    \n",
    "    dL_dN2 = dL_dP2 * dP2_dN2 #shape = (batch_size, 1)\n",
    "    \n",
    "    dP2_dB2 = np.ones_like(weights['B2']) #shape = (1, 1)\n",
    "    \n",
    "    dL_dB2 = (dL_dP2 * dP2_dB2).sum(axis=0) #shape = (batch_size, 1) --> (1,)\n",
    "    \n",
    "    dN2_dW2 = np.transpose(forward_info['O1'], (1, 0)) #shape = (n_size, batch_size)\n",
    "    \n",
    "    dL_dW2 = np.dot(dN2_dW2, dL_dN2) #shape = (n_size, 1)\n",
    "    \n",
    "    dN2_dO1 = np.transpose(weights['W2'], (1, 0)) #shape = (1, n_size)\n",
    "    \n",
    "    dL_dO1 = np.dot(dL_dN2, dN2_dO1) #shape = (batch_size, n_size)\n",
    "    \n",
    "    dO1_dP1 = sigmoid(forward_info['P1']) * (1-sigmoid(forward_info['P1'])) #shape = (batch_size, n_size)\n",
    "    \n",
    "    dL_dP1 = dL_dO1 * dO1_dP1 #shape = (batch_size, n_size)\n",
    "    \n",
    "    dP1_dB1 = np.ones_like(weights['B1']) #shape = (n_size, n_size)\n",
    "    \n",
    "    dL_dB1 = dL_dP1 * dP1_dB1.sum(axis=0) #shape = (batch_size, n_size) --> (n_size,)\n",
    "              \n",
    "    dP1_dN1 = np.ones_like(forward_info['N1']) #shape = (batch_size, n_size)\n",
    "    \n",
    "    dL_dN1 = dL_dP1 * dP1_dN1 #shape = (batch_size, n_size)\n",
    "    \n",
    "    dN1_dW1 = np.transpose(forward_info['X'], (1, 0)) #shape = (n_size, batch_size)\n",
    "    \n",
    "    dL_dW1 =  np.dot(dN1_dW1, dL_dN1) #shape = (n_size, n_size)\n",
    "    \n",
    "    loss_gradient = {}\n",
    "    loss_gradient['W1'] = dL_dW1\n",
    "    loss_gradient['B1'] = dL_dB1.sum(axis=0)\n",
    "    loss_gradient['W2'] = dL_dW2\n",
    "    loss_gradient['B2'] = dL_dB2.sum(axis=0)\n",
    "    \n",
    "    return loss_gradient"
   ]
  },
  {
   "cell_type": "code",
   "execution_count": 10,
   "metadata": {},
   "outputs": [],
   "source": [
    "def init_weights(n_size, hidden_size):\n",
    "    '''\n",
    "    initialize weights on the forward pass\n",
    "    '''\n",
    "    \n",
    "    weights = {}\n",
    "    weights['W1'] = np.random.randn(n_size, hidden_size)\n",
    "    weights['B1'] = np.random.randn(1, hidden_size)\n",
    "    weights['W2'] = np.random.randn(hidden_size, 1)\n",
    "    weights['B2'] = np.random.randn(1, 1)\n",
    "    \n",
    "    return weights"
   ]
  },
  {
   "cell_type": "code",
   "execution_count": 11,
   "metadata": {},
   "outputs": [],
   "source": [
    "def generate_batch(X, y, start, batch_size):\n",
    "    '''\n",
    "    Generate a batch from X and y, given starting position\n",
    "    '''\n",
    "    \n",
    "    assert X.ndim == y.ndim == 2\n",
    "    \n",
    "    \n",
    "    # Remaining data that is not the length of batch_size\n",
    "    if start + batch_size > X.shape[0]:\n",
    "        batch_size = X.shape[0] - start\n",
    "    \n",
    "    X_batch = X[start:start+batch_size]\n",
    "    y_batch = y[start:start+batch_size]\n",
    "    \n",
    "    return X_batch, y_batch"
   ]
  },
  {
   "cell_type": "code",
   "execution_count": 12,
   "metadata": {},
   "outputs": [],
   "source": [
    "def permute_data(X, y):\n",
    "    '''\n",
    "    Permute X and y, using the same permutation, along axis=0\n",
    "    '''\n",
    "    # X.shape[0] = number of oberservations\n",
    "    perm = np.random.permutation(X.shape[0])\n",
    "    \n",
    "    return X[perm], y[perm]"
   ]
  },
  {
   "cell_type": "code",
   "execution_count": 13,
   "metadata": {},
   "outputs": [],
   "source": [
    "def train(X_train, \n",
    "          y_train, \n",
    "          X_test, \n",
    "          y_test, \n",
    "          n_iter, \n",
    "          test_every, \n",
    "          learning_rate, \n",
    "          hidden_size,\n",
    "          batch_size, \n",
    "          return_losses, \n",
    "          return_weights,\n",
    "          return_scores,\n",
    "          seed):\n",
    "    '''\n",
    "    Train model for a certain number of epochs\n",
    "    '''\n",
    "    if seed:\n",
    "        np.random.seed(seed)\n",
    "    \n",
    "    # Initialize weights for each characteristic in data\n",
    "    weights = init_weights(X_train.shape[1], hidden_size)\n",
    "    # Permute data\n",
    "    X, y = permute_data(X_train, y_train)\n",
    "    \n",
    "    if return_losses:\n",
    "        losses = []\n",
    "    \n",
    "    start = 0\n",
    "    \n",
    "    for i in range(n_iter):\n",
    "        \n",
    "        # Permute data again once all the data is used in a batch\n",
    "        if start >= X.shape[0]:\n",
    "            X, y = permute_data(X_train, y_train)\n",
    "            start = 0\n",
    "            \n",
    "        # Generate batch\n",
    "        X_batch, y_batch = generate_batch(X, y, start, batch_size)\n",
    "        start += batch_size\n",
    "        \n",
    "        #Train net using generated batch\n",
    "        forward_info, loss = forward_loss(X_batch, y_batch, weights)\n",
    "        \n",
    "        if return_losses:\n",
    "            losses.append(loss)\n",
    "            \n",
    "        loss_grads = loss_gradient(forward_info, weights)\n",
    "        \n",
    "        for key in weights.keys():\n",
    "            weights[key] -= learning_rate * loss_grads[key]\n",
    "            \n",
    "    if return_weights:\n",
    "        return losses, weights\n",
    "    \n",
    "    return None"
   ]
  },
  {
   "cell_type": "code",
   "execution_count": 14,
   "metadata": {},
   "outputs": [],
   "source": [
    "def predict(X, weights):\n",
    "    '''\n",
    "    Generates predictions from the step by step linear model used by X_test\n",
    "    '''\n",
    "    \n",
    "    N1 = np.dot(X, weights['W1'])\n",
    "    P1 = N1 + weights['B1']\n",
    "    O1 = sigmoid(P1)\n",
    "    N2 = np.dot(O1, weights['W2'])\n",
    "    P2 = N2 + weights['B2']\n",
    "    \n",
    "    return P2"
   ]
  },
  {
   "cell_type": "code",
   "execution_count": 15,
   "metadata": {},
   "outputs": [],
   "source": [
    "from sklearn.model_selection import train_test_split"
   ]
  },
  {
   "cell_type": "code",
   "execution_count": 16,
   "metadata": {},
   "outputs": [],
   "source": [
    "X_train, X_test, y_train, y_test = train_test_split(data, target, test_size=.3, random_state=80718)\n",
    "\n",
    "y_train = y_train.reshape(-1, 1)\n",
    "y_test = y_test.reshape(-1, 1)"
   ]
  },
  {
   "cell_type": "code",
   "execution_count": 17,
   "metadata": {},
   "outputs": [],
   "source": [
    "train_info = train(X_train, y_train, X_test, y_test,\n",
    "                   n_iter=10000,\n",
    "                   test_every = 1000,\n",
    "                   learning_rate = 0.001,\n",
    "                   hidden_size=13,\n",
    "                   batch_size=23, \n",
    "                   return_losses=True, \n",
    "                   return_weights=True, \n",
    "                   return_scores=False,\n",
    "                   seed=180807)\n",
    "losses, weights = train_info"
   ]
  },
  {
   "cell_type": "code",
   "execution_count": 18,
   "metadata": {},
   "outputs": [],
   "source": [
    "def mean_absolute_error(preds, actuals):\n",
    "    '''\n",
    "    Compute mean absolute error\n",
    "    '''\n",
    "    return np.mean(np.abs(actuals - preds))"
   ]
  },
  {
   "cell_type": "code",
   "execution_count": 19,
   "metadata": {},
   "outputs": [],
   "source": [
    "def root_mean_squared_error(pred, actual):\n",
    "    '''\n",
    "    Compute root mean squared error\n",
    "    '''\n",
    "    return np.sqrt(np.mean(np.power(actual - pred, 2)))"
   ]
  },
  {
   "cell_type": "code",
   "execution_count": 20,
   "metadata": {},
   "outputs": [],
   "source": [
    "preds = predict(X_test, weights)"
   ]
  },
  {
   "cell_type": "code",
   "execution_count": 21,
   "metadata": {},
   "outputs": [
    {
     "name": "stdout",
     "output_type": "stream",
     "text": [
      "Mean absolute error:\n",
      "2.2582959551610515\n",
      "\n",
      "Root mean squared error:\n",
      "3.3345446877308595\n"
     ]
    }
   ],
   "source": [
    "print(f\"Mean absolute error:\\n{mean_absolute_error(preds,y_test)}\")\n",
    "print()\n",
    "print(f\"Root mean squared error:\\n{root_mean_squared_error(preds,y_test)}\")"
   ]
  },
  {
   "cell_type": "code",
   "execution_count": 22,
   "metadata": {},
   "outputs": [
    {
     "data": {
      "text/plain": [
       "[<matplotlib.lines.Line2D at 0x1a25050a50>]"
      ]
     },
     "execution_count": 22,
     "metadata": {},
     "output_type": "execute_result"
    },
    {
     "data": {
      "image/png": "[encoded data removed]",
      "text/plain": [
       "<Figure size 432x288 with 1 Axes>"
      ]
     },
     "metadata": {
      "needs_background": "light"
     },
     "output_type": "display_data"
    }
   ],
   "source": [
    "plt.title(\"Predicted vs. Actual Value\")\n",
    "plt.xlabel(\"Predicted Values\")\n",
    "plt.ylabel(\"Actual Values\")\n",
    "plt.xlim([0, 51])\n",
    "plt.ylim([0, 51])\n",
    "plt.scatter(preds, y_test)\n",
    "plt.plot([0, 51], [0, 51])"
   ]
  },
  {
   "cell_type": "code",
   "execution_count": 23,
   "metadata": {},
   "outputs": [],
   "source": [
    "num = 40\n",
    "a = np.repeat(X_test[:,: -1].mean(axis=0, keepdims=True), num, axis=0) #shape is (40, 12)\n",
    "b = np.linspace(-1.5, 3.5, num).reshape(40, 1) #shape is (40, 1)\n",
    "test_feature = np.concatenate([a, b], axis=1)\n",
    "test_predictions = predict(test_feature, weights)#.reshape(num)\n",
    "X_val = test_feature[:,-1]\n",
    "y_val = test_predictions[:,0]"
   ]
  },
  {
   "cell_type": "code",
   "execution_count": 24,
   "metadata": {},
   "outputs": [
    {
     "data": {
      "text/plain": [
       "(6, 51)"
      ]
     },
     "execution_count": 24,
     "metadata": {},
     "output_type": "execute_result"
    },
    {
     "data": {
      "image/png": "[encoded data removed]",
      "text/plain": [
       "<Figure size 720x432 with 1 Axes>"
      ]
     },
     "metadata": {
      "needs_background": "light"
     },
     "output_type": "display_data"
    }
   ],
   "source": [
    "# x_test[:, n] returns an 1D array consisting of the nth element of every row\n",
    "plt.figure(figsize=(10, 6))\n",
    "plt.scatter(X_test[:, 12], y_test)\n",
    "plt.plot(X_val, y_val, c='orange', lw=2)\n",
    "plt.title(\"Most important feature vs Values\")\n",
    "plt.xlabel(\"Most important feature\")\n",
    "plt.ylabel(\"Target Values\")\n",
    "plt.ylim([6, 51])"
   ]
  },
  {
   "cell_type": "code",
   "execution_count": 25,
   "metadata": {},
   "outputs": [
    {
     "data": {
      "text/plain": [
       "[<matplotlib.lines.Line2D at 0x1a25661dd0>]"
      ]
     },
     "execution_count": 25,
     "metadata": {},
     "output_type": "execute_result"
    },
    {
     "data": {
      "image/png": "[encoded data removed]",
      "text/plain": [
       "<Figure size 432x288 with 1 Axes>"
      ]
     },
     "metadata": {
      "needs_background": "light"
     },
     "output_type": "display_data"
    }
   ],
   "source": [
    "plt.plot(list(range(10000)), losses)"
   ]
  },
  {
   "cell_type": "code",
   "execution_count": null,
   "metadata": {},
   "outputs": [],
   "source": []
  }
 ],
 "metadata": {
  "kernelspec": {
   "display_name": "Python 3",
   "language": "python",
   "name": "python3"
  },
  "language_info": {
   "codemirror_mode": {
    "name": "ipython",
    "version": 3
   },
   "file_extension": ".py",
   "mimetype": "text/x-python",
   "name": "python",
   "nbconvert_exporter": "python",
   "pygments_lexer": "ipython3",
   "version": "3.7.0"
  }
 },
 "nbformat": 4,
 "nbformat_minor": 2
}

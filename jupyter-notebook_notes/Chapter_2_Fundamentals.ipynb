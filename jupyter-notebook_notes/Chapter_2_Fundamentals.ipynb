{
 "cells": [
  {
   "cell_type": "code",
   "execution_count": 1,
   "metadata": {},
   "outputs": [],
   "source": [
    "import numpy as np\n",
    "import matplotlib.pyplot as plt\n",
    "\n",
    "%matplotlib inline"
   ]
  },
  {
   "cell_type": "code",
   "execution_count": 2,
   "metadata": {},
   "outputs": [],
   "source": [
    "from sklearn.datasets import load_boston\n",
    "from sklearn.preprocessing import StandardScaler"
   ]
  },
  {
   "cell_type": "code",
   "execution_count": 3,
   "metadata": {},
   "outputs": [],
   "source": [
    "boston = load_boston()\n",
    "data = boston.data\n",
    "target = boston.target\n",
    "features = boston.feature_names"
   ]
  },
  {
   "cell_type": "code",
   "execution_count": 4,
   "metadata": {},
   "outputs": [],
   "source": [
    "s = StandardScaler()\n",
    "data = s.fit_transform(data)"
   ]
  },
  {
   "cell_type": "code",
   "execution_count": 5,
   "metadata": {},
   "outputs": [],
   "source": [
    "def forward_linear_regression(x_batch, y_batch, weights):\n",
    "    '''\n",
    "    Forward pass for the step by step linear regression\n",
    "    '''\n",
    "    \n",
    "    # Assert training and testing data have the same size\n",
    "    assert x_batch[0] == y_batch[0]\n",
    "    \n",
    "    # Assert matrix multiplication can work on x and w\n",
    "    assert x_batch[1] == weights['W'].shape[0]\n",
    "    \n",
    "    # Assert that B is simply a 1x1 ndarry\n",
    "    assert weights['B'].shape[0]==weights['B'].shape[1]==1\n",
    "    \n",
    "    N = np.dot(x_batch, weights['W'])\n",
    "    P = N + weights['B']\n",
    "    \n",
    "    loss = np.mean(np.power((y_batch - P), 2))\n",
    "    \n",
    "    forward_info = {}\n",
    "    forward_info['X'] = x_batch\n",
    "    forward_info['N'] = N\n",
    "    forward_info['P'] = P\n",
    "    forward_info['y'] = y_batch\n",
    "    \n",
    "    return loss, forward_info"
   ]
  },
  {
   "cell_type": "code",
   "execution_count": 6,
   "metadata": {},
   "outputs": [],
   "source": [
    "def init_weights(n_in):\n",
    "    '''\n",
    "    initialize weights on the forward pass\n",
    "    '''\n",
    "    \n",
    "    weights = {}\n",
    "    w = np.random.randn(n_in, 1)\n",
    "    b = np.random.randn(1, 1)\n",
    "    \n",
    "    weights['W'] = w\n",
    "    weights['B'] = b\n",
    "    \n",
    "    return weights"
   ]
  },
  {
   "cell_type": "code",
   "execution_count": 7,
   "metadata": {},
   "outputs": [],
   "source": [
    "def generate_batch(x, y, start, batch_size):\n",
    "    '''\n",
    "    Generate a batch from x and y, given starting position\n",
    "    '''\n",
    "    \n",
    "    assert x.ndim == y.ndim == 2\n",
    "    \n",
    "    \n",
    "    # Remaining data that is not the length of batch_size\n",
    "    if start + batch_size > x.shape[0]:\n",
    "        batch_size = x.shape[0] - start\n",
    "    \n",
    "    x_batch = x[start:start+batch_size]\n",
    "    y_batch = y[start:start+batch_size]\n",
    "    \n",
    "    return x_batch, y_batch"
   ]
  },
  {
   "cell_type": "code",
   "execution_count": 8,
   "metadata": {},
   "outputs": [],
   "source": [
    "def permute_data(x, y):\n",
    "    '''\n",
    "    Permute X and y, using the same permutation, along axis=0\n",
    "    '''\n",
    "    # X.shape[0] = number of oberservations\n",
    "    perm = np.random.permutation(x.shape[0])\n",
    "    \n",
    "    return x[perm], y[perm]"
   ]
  },
  {
   "cell_type": "code",
   "execution_count": 9,
   "metadata": {},
   "outputs": [],
   "source": [
    "def forward_loss(x, y, weights):\n",
    "    '''\n",
    "    Generate predictions and calculate loss for a step by step linear regression\n",
    "    '''\n",
    "    \n",
    "    N = np.dot(x, weights['W'])\n",
    "    \n",
    "    P = N + weights['B']\n",
    "    \n",
    "    loss = np.mean(np.power(y - P, 2))\n",
    "    \n",
    "    forward_info = {}\n",
    "    forward_info['X'] = x\n",
    "    forward_info['N'] = N\n",
    "    forward_info['P'] = P\n",
    "    forward_info['y'] = y\n",
    "    \n",
    "    return forward_info, loss"
   ]
  },
  {
   "cell_type": "code",
   "execution_count": 10,
   "metadata": {},
   "outputs": [],
   "source": [
    "def loss_gradient(forward_info, weights):\n",
    "    # P = np.dot(x, w) + B\n",
    "    \n",
    "    # dL_dW = dL_dP * dP_dN * dN_dW\n",
    "    # dL_db = dL_dP * dP_db\n",
    "\n",
    "    \n",
    "    dN_dW = np.transpose(forward_info['X'], (1, 0))\n",
    "    \n",
    "    # Partial derivatives of P\n",
    "    dP_dN = np.ones_like(forward_info['N'])\n",
    "    dP_dB = np.ones_like(weights['B'])\n",
    "    \n",
    "    # Partial of lambda (cost function) with respect to P\n",
    "    dL_dP = -2 * (forward_info['y'] -  forward_info['P'])\n",
    "    \n",
    "    dL_dN = dL_dP * dP_dN\n",
    "    dL_dW = np.dot(dN_dW, dL_dN)\n",
    "    \n",
    "    dL_dB = (dL_dP * dP_dB).sum(axis=0)\n",
    "    \n",
    "    loss_gradients = {}\n",
    "    loss_gradients['W'] = dL_dW\n",
    "    loss_gradients['B'] = dL_dB\n",
    "    \n",
    "    return loss_gradients"
   ]
  },
  {
   "cell_type": "code",
   "execution_count": 11,
   "metadata": {},
   "outputs": [],
   "source": [
    "def train(x, y, n_iter, learning_rate, batch_size, return_losses, return_weights, seed):\n",
    "    '''\n",
    "    Train model for a certain number of epochs\n",
    "    '''\n",
    "    if seed:\n",
    "        np.random.seed(seed)\n",
    "    \n",
    "    # Initialize weights for each characteristic in data\n",
    "    weights = init_weights(x.shape[1])\n",
    "    # Permute data\n",
    "    x, y = permute_data(x, y)\n",
    "    \n",
    "    if return_losses:\n",
    "        losses = []\n",
    "    \n",
    "    start = 0\n",
    "    \n",
    "    for i in range(n_iter):\n",
    "        \n",
    "        # Permute data once all the data is used in a batch\n",
    "        if start >= x.shape[0]:\n",
    "            x, y = permute_data(x, y)\n",
    "            start = 0\n",
    "            \n",
    "        # Generate batch\n",
    "        x_batch, y_batch = generate_batch(x, y, start, batch_size)\n",
    "        start += batch_size\n",
    "        \n",
    "        #Train net using generated batch\n",
    "        forward_info, loss = forward_loss(x_batch, y_batch, weights)\n",
    "        \n",
    "        if return_losses:\n",
    "            losses.append(loss)\n",
    "            \n",
    "        loss_grads = loss_gradient(forward_info, weights)\n",
    "        \n",
    "        for key in weights.keys():\n",
    "            weights[key] -= learning_rate * loss_grads[key]\n",
    "            \n",
    "    if return_weights:\n",
    "        return losses, weights\n",
    "    \n",
    "    return None"
   ]
  },
  {
   "cell_type": "code",
   "execution_count": 12,
   "metadata": {},
   "outputs": [],
   "source": [
    "from sklearn.model_selection import train_test_split"
   ]
  },
  {
   "cell_type": "code",
   "execution_count": 13,
   "metadata": {},
   "outputs": [],
   "source": [
    "x_train, x_test, y_train, y_test = train_test_split(data, target, test_size=.3, random_state=80718)\n",
    "\n",
    "y_train = y_train.reshape(-1, 1)\n",
    "y_test = y_test.reshape(-1, 1)"
   ]
  },
  {
   "cell_type": "code",
   "execution_count": 28,
   "metadata": {},
   "outputs": [
    {
     "data": {
      "text/plain": [
       "(152, 1)"
      ]
     },
     "execution_count": 28,
     "metadata": {},
     "output_type": "execute_result"
    }
   ],
   "source": [
    "y_test.shape"
   ]
  },
  {
   "cell_type": "code",
   "execution_count": 14,
   "metadata": {},
   "outputs": [],
   "source": [
    "train_info = train(x_train, y_train, 1000, 0.001, 23, True, True, 180708)\n",
    "losses, weights = train_info"
   ]
  },
  {
   "cell_type": "code",
   "execution_count": 15,
   "metadata": {},
   "outputs": [
    {
     "data": {
      "text/plain": [
       "Text(0, 0.5, 'Loss')"
      ]
     },
     "execution_count": 15,
     "metadata": {},
     "output_type": "execute_result"
    },
    {
     "data": {
      "image/png": "[encoded data removed]",
      "text/plain": [
       "<Figure size 720x432 with 1 Axes>"
      ]
     },
     "metadata": {
      "needs_background": "light"
     },
     "output_type": "display_data"
    }
   ],
   "source": [
    "plt.figure(figsize=(10, 6))\n",
    "plt.plot(list(range(1000)), losses)\n",
    "plt.title(\"Losses\")\n",
    "plt.xlabel(\"Iteration\")\n",
    "plt.ylabel(\"Loss\")"
   ]
  },
  {
   "cell_type": "code",
   "execution_count": 16,
   "metadata": {},
   "outputs": [],
   "source": [
    "def predict(x, weights):\n",
    "    '''\n",
    "    Generates predictions from the step by step linear model\n",
    "    '''\n",
    "    \n",
    "    N = np.dot(x, weights['W'])\n",
    "    P = N + weights['B']\n",
    "    \n",
    "    return P"
   ]
  },
  {
   "cell_type": "code",
   "execution_count": 17,
   "metadata": {},
   "outputs": [],
   "source": [
    "preds = predict(x_test, weights)"
   ]
  },
  {
   "cell_type": "code",
   "execution_count": 18,
   "metadata": {},
   "outputs": [
    {
     "data": {
      "text/plain": [
       "[<matplotlib.lines.Line2D at 0x1a1b5119d0>]"
      ]
     },
     "execution_count": 18,
     "metadata": {},
     "output_type": "execute_result"
    },
    {
     "data": {
      "image/png": "[encoded data removed]",
      "text/plain": [
       "<Figure size 432x288 with 1 Axes>"
      ]
     },
     "metadata": {
      "needs_background": "light"
     },
     "output_type": "display_data"
    }
   ],
   "source": [
    "plt.title(\"Predicted vs. Actual Value\")\n",
    "plt.xlabel(\"Predicted Values\")\n",
    "plt.ylabel(\"Actual Values\")\n",
    "plt.xlim([0, 51])\n",
    "plt.ylim([0, 51])\n",
    "plt.scatter(preds, y_test)\n",
    "plt.plot([0, 51], [0, 51])"
   ]
  },
  {
   "cell_type": "code",
   "execution_count": 19,
   "metadata": {},
   "outputs": [],
   "source": [
    "def mean_absolute_error(preds, actuals):\n",
    "    '''\n",
    "    Compute mean absolute error\n",
    "    '''\n",
    "    return np.mean(np.abs(actuals - preds))"
   ]
  },
  {
   "cell_type": "code",
   "execution_count": 20,
   "metadata": {},
   "outputs": [],
   "source": [
    "def root_mean_squared_error(pred, actual):\n",
    "    '''\n",
    "    Compute root mean squared error\n",
    "    '''\n",
    "    return np.sqrt(np.mean(np.power(actual - pred, 2)))"
   ]
  },
  {
   "cell_type": "code",
   "execution_count": 21,
   "metadata": {},
   "outputs": [
    {
     "name": "stdout",
     "output_type": "stream",
     "text": [
      "Mean absolute error:\n",
      "3.5644381172615454\n",
      "\n",
      "Root mean squared error:\n",
      "5.049680281687752\n"
     ]
    }
   ],
   "source": [
    "print(f\"Mean absolute error:\\n{mean_absolute_error(preds,y_test)}\")\n",
    "print()\n",
    "print(f\"Root mean squared error:\\n{root_mean_squared_error(preds,y_test)}\")"
   ]
  },
  {
   "cell_type": "code",
   "execution_count": 22,
   "metadata": {},
   "outputs": [
    {
     "data": {
      "text/plain": [
       "22.07763157894737"
      ]
     },
     "execution_count": 22,
     "metadata": {},
     "output_type": "execute_result"
    }
   ],
   "source": [
    "np.mean(y_test)"
   ]
  },
  {
   "cell_type": "code",
   "execution_count": 23,
   "metadata": {},
   "outputs": [
    {
     "name": "stdout",
     "output_type": "stream",
     "text": [
      "Average prediction error percent:\n",
      "22.87%\n"
     ]
    }
   ],
   "source": [
    "ave_pred_error_percent = root_mean_squared_error(preds,y_test) / np.mean(y_test)\n",
    "print(f\"Average prediction error percent:\\n{round(ave_pred_error_percent*100, 2)}%\")"
   ]
  },
  {
   "cell_type": "code",
   "execution_count": 24,
   "metadata": {},
   "outputs": [
    {
     "data": {
      "text/plain": [
       "array([[-1.0954],\n",
       "       [ 0.7353],\n",
       "       [ 0.1977],\n",
       "       [ 0.7475],\n",
       "       [-2.2849],\n",
       "       [ 2.2006],\n",
       "       [ 0.7195],\n",
       "       [-2.6384],\n",
       "       [ 2.5358],\n",
       "       [-1.6892],\n",
       "       [-2.3162],\n",
       "       [ 0.8435],\n",
       "       [-4.2553]])"
      ]
     },
     "execution_count": 24,
     "metadata": {},
     "output_type": "execute_result"
    }
   ],
   "source": [
    "np.round(weights['W'], 4)"
   ]
  },
  {
   "cell_type": "code",
   "execution_count": 25,
   "metadata": {},
   "outputs": [],
   "source": [
    "'''NUM = 40\n",
    "a = np.repeat(X_test[:,:-1].mean(axis=0, keepdims=True), NUM, axis=0)\n",
    "b = np.linspace(-1.5, 3.5, NUM).reshape(NUM, 1)\n",
    "\n",
    "test_feature = np.concatenate([a, b], axis=1)\n",
    "test_preds = predict(test_feature, weights)[:, 0]'''\n",
    "\n",
    "num = 40\n",
    "\n",
    "a = np.repeat(x_test[:,: -1].mean(axis=0, keepdims=True), num, axis=0) #shape is (40, 12)\n",
    "b = np.linspace(-1.5, 3.5, num).reshape(40, 1) #shape is (40, 1)\n",
    "test_feature = np.concatenate([a, b], axis=1)\n",
    "test_predictions = predict(test_feature, weights)#.reshape(num)\n",
    "x_val = test_feature[:,-1]\n",
    "y_val = test_predictions[:,0]"
   ]
  },
  {
   "cell_type": "code",
   "execution_count": 26,
   "metadata": {},
   "outputs": [
    {
     "data": {
      "text/plain": [
       "(6, 51)"
      ]
     },
     "execution_count": 26,
     "metadata": {},
     "output_type": "execute_result"
    },
    {
     "data": {
      "image/png": "[encoded data removed]",
      "text/plain": [
       "<Figure size 720x432 with 1 Axes>"
      ]
     },
     "metadata": {
      "needs_background": "light"
     },
     "output_type": "display_data"
    }
   ],
   "source": [
    "# x_test[:, n] returns an 1D array consisting of the nth element of every row\n",
    "plt.figure(figsize=(10, 6))\n",
    "plt.scatter(x_test[:, 12], y_test)\n",
    "plt.plot(x_val, y_val, c='orange', lw=2)\n",
    "plt.title(\"Most important feature vs Values\")\n",
    "plt.xlabel(\"Most important feature\")\n",
    "plt.ylabel(\"Target Values\")\n",
    "plt.ylim([6, 51])"
   ]
  },
  {
   "cell_type": "code",
   "execution_count": 27,
   "metadata": {},
   "outputs": [
    {
     "data": {
      "text/plain": [
       "array([3, 6, 9])"
      ]
     },
     "execution_count": 27,
     "metadata": {},
     "output_type": "execute_result"
    }
   ],
   "source": [
    "a = np.array([[1, 2, 3], [4, 5, 6], [7, 8, 9]])\n",
    "a[:, 2]"
   ]
  },
  {
   "cell_type": "code",
   "execution_count": null,
   "metadata": {},
   "outputs": [],
   "source": []
  },
  {
   "cell_type": "code",
   "execution_count": null,
   "metadata": {},
   "outputs": [],
   "source": []
  }
 ],
 "metadata": {
  "kernelspec": {
   "display_name": "Python 3",
   "language": "python",
   "name": "python3"
  },
  "language_info": {
   "codemirror_mode": {
    "name": "ipython",
    "version": 3
   },
   "file_extension": ".py",
   "mimetype": "text/x-python",
   "name": "python",
   "nbconvert_exporter": "python",
   "pygments_lexer": "ipython3",
   "version": "3.7.0"
  }
 },
 "nbformat": 4,
 "nbformat_minor": 2
}
